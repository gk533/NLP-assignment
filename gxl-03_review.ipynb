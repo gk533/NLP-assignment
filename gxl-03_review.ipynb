{
 "cells": [
  {
   "cell_type": "code",
   "execution_count": 1,
   "metadata": {},
   "outputs": [],
   "source": [
    "from sklearn.datasets import load_boston"
   ]
  },
  {
   "cell_type": "code",
   "execution_count": 2,
   "metadata": {},
   "outputs": [],
   "source": [
    "data = load_boston()"
   ]
  },
  {
   "cell_type": "code",
   "execution_count": 3,
   "metadata": {},
   "outputs": [],
   "source": [
    "X, Y = data['data'], data['target']"
   ]
  },
  {
   "cell_type": "code",
   "execution_count": 4,
   "metadata": {},
   "outputs": [],
   "source": [
    "def price(rm, k, b):\n",
    "    \"\"\"f(x) = k * x + b\"\"\"\n",
    "    return k * rm + b "
   ]
  },
  {
   "cell_type": "markdown",
   "metadata": {},
   "source": [
    "## loss\n",
    "$$ loss = \\frac{1}{n} \\sum{(y_i - \\hat{y_i})}^2$$\n",
    "$$ loss = \\frac{1}{n} \\sum{(y_i - (kx_i + b_i))}^2 $$\n",
    "$$ \\frac{\\partial{loss}}{\\partial{k}} = -\\frac{2}{n}\\sum(y_i - (kx_i + b_i))x_i$$\n",
    "$$ \\frac{\\partial{loss}}{\\partial{k}} = -\\frac{2}{n}\\sum(y_i - \\hat{y_i})x_i$$\n",
    "$$ \\frac{\\partial{loss}}{\\partial{b}} = -\\frac{2}{n}\\sum(y_i - \\hat{y_i})$$"
   ]
  },
  {
   "cell_type": "code",
   "execution_count": 5,
   "metadata": {},
   "outputs": [],
   "source": [
    "def loss(y, y_hat): \n",
    "    return sum((y_i - y_hat_i)**2 for y_i, y_hat_i in zip(list(y), list(y_hat))) / len(list(y))"
   ]
  },
  {
   "cell_type": "code",
   "execution_count": 6,
   "metadata": {},
   "outputs": [],
   "source": [
    "def partial_k(x, y, y_hat):\n",
    "    n = len(y)\n",
    "\n",
    "    gradient = 0\n",
    "    \n",
    "    for x_i, y_i, y_hat_i in zip(list(x), list(y), list(y_hat)):\n",
    "        gradient += (y_i - y_hat_i) * x_i\n",
    "    \n",
    "    return -2 / n * gradient\n",
    "\n",
    "\n",
    "def partial_b(x, y, y_hat):\n",
    "    n = len(y)\n",
    "\n",
    "    gradient = 0\n",
    "    \n",
    "    for y_i, y_hat_i in zip(list(y), list(y_hat)):\n",
    "        gradient += (y_i - y_hat_i)\n",
    "    \n",
    "    return -2 / n * gradient"
   ]
  },
  {
   "cell_type": "code",
   "execution_count": null,
   "metadata": {},
   "outputs": [],
   "source": []
  },
  {
   "cell_type": "code",
   "execution_count": 7,
   "metadata": {},
   "outputs": [
    {
     "name": "stdout",
     "output_type": "stream",
     "text": [
      "When time is : 0, get best_k: -1.0190907430317253 best_b: -24.636043727839848, and the loss is: 2964.1875154343347\n",
      "When time is : 50, get best_k: 7.204768525781597 best_b: -23.357181395235862, and the loss is: 45.747101161347416\n",
      "When time is : 100, get best_k: 7.321241821939289 best_b: -23.35282445230433, and the loss is: 45.17892847763414\n",
      "When time is : 150, get best_k: 7.324969800151877 best_b: -23.366174877969943, and the loss is: 45.17502855660653\n",
      "When time is : 200, get best_k: 7.327127388080088 best_b: -23.379755430130434, and the loss is: 45.17124685888099\n",
      "When time is : 250, get best_k: 7.329260607499427 best_b: -23.393323086448685, and the loss is: 45.16747426532408\n",
      "When time is : 300, get best_k: 7.331390960710065 best_b: -23.406874486753797, and the loss is: 45.16371073302198\n",
      "When time is : 350, get best_k: 7.333518749763878 best_b: -23.420409603637246, and the loss is: 45.15995624020683\n",
      "When time is : 400, get best_k: 7.335643981894583 best_b: -23.43392845601323, and the loss is: 45.15621076516695\n",
      "When time is : 450, get best_k: 7.337766660232459 best_b: -23.44743106341698, and the loss is: 45.15247428624296\n",
      "When time is : 500, get best_k: 7.339886787847084 best_b: -23.46091744536919, and the loss is: 45.14874678182747\n",
      "When time is : 550, get best_k: 7.342004367803554 best_b: -23.47438762136722, and the loss is: 45.14502823036483\n",
      "When time is : 600, get best_k: 7.344119403163268 best_b: -23.487841610885013, and the loss is: 45.14131861035122\n",
      "When time is : 650, get best_k: 7.346231896983954 best_b: -23.501279433373117, and the loss is: 45.13761790033479\n",
      "When time is : 700, get best_k: 7.348341852319655 best_b: -23.514701108258667, and the loss is: 45.13392607891471\n",
      "When time is : 750, get best_k: 7.350449272220754 best_b: -23.528106654945486, and the loss is: 45.13024312474184\n",
      "When time is : 800, get best_k: 7.352554159733962 best_b: -23.541496092814114, and the loss is: 45.12656901651835\n",
      "When time is : 850, get best_k: 7.354656517902333 best_b: -23.55486944122174, and the loss is: 45.12290373299745\n",
      "When time is : 900, get best_k: 7.356756349765262 best_b: -23.56822671950232, and the loss is: 45.119247252983364\n",
      "When time is : 950, get best_k: 7.358853658358491 best_b: -23.581567946966555, and the loss is: 45.115599555331315\n",
      "When time is : 1000, get best_k: 7.360948446714113 best_b: -23.59489314290198, and the loss is: 45.11196061894742\n",
      "When time is : 1050, get best_k: 7.363040717860585 best_b: -23.608202326572936, and the loss is: 45.10833042278801\n",
      "When time is : 1100, get best_k: 7.365130474822716 best_b: -23.6214955172206, and the loss is: 45.10470894586053\n",
      "When time is : 1150, get best_k: 7.367217720621682 best_b: -23.63477273406303, and the loss is: 45.10109616722252\n",
      "When time is : 1200, get best_k: 7.369302458275033 best_b: -23.648033996295222, and the loss is: 45.09749206598178\n",
      "When time is : 1250, get best_k: 7.371384690796691 best_b: -23.661279323089076, and the loss is: 45.09389662129659\n",
      "When time is : 1300, get best_k: 7.373464421196955 best_b: -23.67450873359348, and the loss is: 45.090309812374905\n",
      "When time is : 1350, get best_k: 7.375541652482505 best_b: -23.687722246934253, and the loss is: 45.086731618474936\n",
      "When time is : 1400, get best_k: 7.37761638765641 best_b: -23.700919882214304, and the loss is: 45.0831620189045\n",
      "When time is : 1450, get best_k: 7.379688629718133 best_b: -23.714101658513535, and the loss is: 45.079600993021245\n",
      "When time is : 1500, get best_k: 7.381758381663526 best_b: -23.727267594888957, and the loss is: 45.07604852023234\n",
      "When time is : 1550, get best_k: 7.383825646484855 best_b: -23.74041771037468, and the loss is: 45.07250457999447\n",
      "When time is : 1600, get best_k: 7.385890427170771 best_b: -23.753552023981896, and the loss is: 45.06896915181354\n",
      "When time is : 1650, get best_k: 7.387952726706347 best_b: -23.76667055469901, and the loss is: 45.06544221524485\n",
      "When time is : 1700, get best_k: 7.390012548073065 best_b: -23.77977332149156, and the loss is: 45.06192374989263\n",
      "When time is : 1750, get best_k: 7.3920698942488245 best_b: -23.792860343302326, and the loss is: 45.05841373541027\n",
      "When time is : 1800, get best_k: 7.394124768207943 best_b: -23.80593163905131, and the loss is: 45.05491215149985\n",
      "When time is : 1850, get best_k: 7.396177172921174 best_b: -23.818987227635787, and the loss is: 45.05141897791237\n",
      "When time is : 1900, get best_k: 7.398227111355693 best_b: -23.832027127930342, and the loss is: 45.04793419444731\n",
      "When time is : 1950, get best_k: 7.400274586475108 best_b: -23.845051358786833, and the loss is: 45.044457780952875\n",
      "When time is : 2000, get best_k: 7.402319601239474 best_b: -23.858059939034497, and the loss is: 45.04098971732546\n",
      "When time is : 2050, get best_k: 7.404362158605282 best_b: -23.871052887479934, and the loss is: 45.03752998350986\n",
      "When time is : 2100, get best_k: 7.406402261525473 best_b: -23.884030222907175, and the loss is: 45.03407855949891\n",
      "When time is : 2150, get best_k: 7.40843991294944 best_b: -23.896991964077614, and the loss is: 45.03063542533382\n",
      "When time is : 2200, get best_k: 7.410475115823029 best_b: -23.909938129730154, and the loss is: 45.027200561103356\n",
      "When time is : 2250, get best_k: 7.412507873088551 best_b: -23.92286873858118, and the loss is: 45.02377394694425\n",
      "When time is : 2300, get best_k: 7.41453818768478 best_b: -23.93578380932456, and the loss is: 45.02035556304106\n",
      "When time is : 2350, get best_k: 7.4165660625469565 best_b: -23.948683360631726, and the loss is: 45.01694538962583\n",
      "When time is : 2400, get best_k: 7.418591500606794 best_b: -23.961567411151655, and the loss is: 45.013543406978094\n",
      "When time is : 2450, get best_k: 7.420614504792485 best_b: -23.974435979510908, and the loss is: 45.01014959542471\n",
      "When time is : 2500, get best_k: 7.4226350780287005 best_b: -23.98728908431367, and the loss is: 45.00676393533979\n",
      "When time is : 2550, get best_k: 7.424653223236595 best_b: -24.000126744141767, and the loss is: 45.00338640714485\n",
      "When time is : 2600, get best_k: 7.4266689433338255 best_b: -24.012948977554725, and the loss is: 45.00001699130799\n",
      "When time is : 2650, get best_k: 7.42868224123453 best_b: -24.025755803089744, and the loss is: 44.99665566834444\n",
      "When time is : 2700, get best_k: 7.430693119849347 best_b: -24.038547239261746, and the loss is: 44.99330241881635\n",
      "When time is : 2750, get best_k: 7.432701582085422 best_b: -24.051323304563393, and the loss is: 44.98995722333244\n",
      "When time is : 2800, get best_k: 7.4347076308463995 best_b: -24.064084017465156, and the loss is: 44.98662006254787\n",
      "When time is : 2850, get best_k: 7.436711269032444 best_b: -24.076829396415285, and the loss is: 44.98329091716453\n",
      "When time is : 2900, get best_k: 7.438712499540232 best_b: -24.089559459839883, and the loss is: 44.97996976793048\n",
      "When time is : 2950, get best_k: 7.44071132526295 best_b: -24.102274226142885, and the loss is: 44.97665659564009\n",
      "When time is : 3000, get best_k: 7.442707749090323 best_b: -24.114973713706142, and the loss is: 44.973351381133774\n",
      "When time is : 3050, get best_k: 7.444701773908593 best_b: -24.127657940889396, and the loss is: 44.97005410529812\n",
      "When time is : 3100, get best_k: 7.446693402600541 best_b: -24.14032692603033, and the loss is: 44.96676474906542\n",
      "When time is : 3150, get best_k: 7.448682638045477 best_b: -24.1529806874446, and the loss is: 44.96348329341394\n",
      "When time is : 3200, get best_k: 7.45066948311925 best_b: -24.165619243425837, and the loss is: 44.960209719367654\n",
      "When time is : 3250, get best_k: 7.452653940694264 best_b: -24.178242612245697, and the loss is: 44.95694400799591\n",
      "When time is : 3300, get best_k: 7.454636013639462 best_b: -24.19085081215389, and the loss is: 44.953686140413595\n",
      "When time is : 3350, get best_k: 7.45661570482034 best_b: -24.203443861378176, and the loss is: 44.95043609778125\n",
      "When time is : 3400, get best_k: 7.458593017098954 best_b: -24.216021778124432, and the loss is: 44.94719386130423\n",
      "When time is : 3450, get best_k: 7.46056795333392 best_b: -24.228584580576644, and the loss is: 44.943959412233184\n",
      "When time is : 3500, get best_k: 7.46254051638042 best_b: -24.24113228689696, and the loss is: 44.940732731863974\n",
      "When time is : 3550, get best_k: 7.4645107090902005 best_b: -24.253664915225688, and the loss is: 44.93751380153714\n",
      "When time is : 3600, get best_k: 7.466478534311586 best_b: -24.26618248368135, and the loss is: 44.93430260263824\n"
     ]
    },
    {
     "name": "stdout",
     "output_type": "stream",
     "text": [
      "When time is : 3650, get best_k: 7.468443994889479 best_b: -24.2786850103607, and the loss is: 44.93109911659739\n",
      "When time is : 3700, get best_k: 7.470407093665358 best_b: -24.29117251333872, and the loss is: 44.92790332488933\n",
      "When time is : 3750, get best_k: 7.472367833477289 best_b: -24.303645010668692, and the loss is: 44.92471520903339\n",
      "When time is : 3800, get best_k: 7.4743262171599305 best_b: -24.3161025203822, and the loss is: 44.92153475059321\n",
      "When time is : 3850, get best_k: 7.476282247544529 best_b: -24.328545060489155, and the loss is: 44.91836193117677\n",
      "When time is : 3900, get best_k: 7.478235927458938 best_b: -24.34097264897785, and the loss is: 44.915196732436115\n",
      "When time is : 3950, get best_k: 7.480187259727605 best_b: -24.353385303814946, and the loss is: 44.91203913606745\n",
      "When time is : 4000, get best_k: 7.482136247171587 best_b: -24.36578304294549, and the loss is: 44.90888912381097\n",
      "When time is : 4050, get best_k: 7.484082892608549 best_b: -24.378165884293004, and the loss is: 44.9057466774507\n",
      "When time is : 4100, get best_k: 7.48602719885277 best_b: -24.39053384575946, and the loss is: 44.90261177881426\n",
      "When time is : 4150, get best_k: 7.48796916871515 best_b: -24.4028869452253, and the loss is: 44.89948440977317\n",
      "When time is : 4200, get best_k: 7.4899088050032105 best_b: -24.415225200549507, and the loss is: 44.89636455224235\n",
      "When time is : 4250, get best_k: 7.491846110521099 best_b: -24.42754862956961, and the loss is: 44.89325218818017\n",
      "When time is : 4300, get best_k: 7.493781088069593 best_b: -24.439857250101657, and the loss is: 44.890147299588385\n",
      "When time is : 4350, get best_k: 7.495713740446104 best_b: -24.45215107994033, and the loss is: 44.887049868511916\n",
      "When time is : 4400, get best_k: 7.497644070444681 best_b: -24.464430136858894, and the loss is: 44.883959877038876\n",
      "When time is : 4450, get best_k: 7.499572080856017 best_b: -24.476694438609293, and the loss is: 44.88087730730029\n",
      "When time is : 4500, get best_k: 7.501497774467451 best_b: -24.488944002922114, and the loss is: 44.8778021414702\n",
      "When time is : 4550, get best_k: 7.503421154062974 best_b: -24.50117884750666, and the loss is: 44.87473436176547\n",
      "When time is : 4600, get best_k: 7.505342222423234 best_b: -24.513398990050923, and the loss is: 44.871673950445604\n",
      "When time is : 4650, get best_k: 7.507260982325528 best_b: -24.525604448221664, and the loss is: 44.86862088981278\n",
      "When time is : 4700, get best_k: 7.509177436543827 best_b: -24.53779523966441, and the loss is: 44.86557516221165\n",
      "When time is : 4750, get best_k: 7.51109158784876 best_b: -24.549971382003466, and the loss is: 44.86253675002927\n",
      "When time is : 4800, get best_k: 7.513003439007631 best_b: -24.562132892841998, and the loss is: 44.859505635695065\n",
      "When time is : 4850, get best_k: 7.514912992784418 best_b: -24.574279789761967, and the loss is: 44.856481801680545\n",
      "When time is : 4900, get best_k: 7.516820251939779 best_b: -24.58641209032426, and the loss is: 44.853465230499346\n",
      "When time is : 4950, get best_k: 7.518725219231055 best_b: -24.598529812068644, and the loss is: 44.850455904707275\n",
      "When time is : 5000, get best_k: 7.520627897412266 best_b: -24.61063297251377, and the loss is: 44.847453806901775\n",
      "When time is : 5050, get best_k: 7.522528289234134 best_b: -24.622721589157305, and the loss is: 44.844458919722314\n",
      "When time is : 5100, get best_k: 7.524426397444066 best_b: -24.63479567947583, and the loss is: 44.8414712258499\n",
      "When time is : 5150, get best_k: 7.526322224786174 best_b: -24.646855260924955, and the loss is: 44.838490708007136\n",
      "When time is : 5200, get best_k: 7.52821577400127 best_b: -24.65890035093931, and the loss is: 44.83551734895835\n",
      "When time is : 5250, get best_k: 7.530107047826872 best_b: -24.670930966932584, and the loss is: 44.83255113150899\n",
      "When time is : 5300, get best_k: 7.531996048997208 best_b: -24.682947126297513, and the loss is: 44.829592038505986\n",
      "When time is : 5350, get best_k: 7.533882780243224 best_b: -24.694948846405968, and the loss is: 44.82664005283724\n",
      "When time is : 5400, get best_k: 7.53576724429258 best_b: -24.706936144608918, and the loss is: 44.82369515743214\n",
      "When time is : 5450, get best_k: 7.537649443869659 best_b: -24.718909038236497, and the loss is: 44.8207573352607\n",
      "When time is : 5500, get best_k: 7.539529381695576 best_b: -24.730867544598016, and the loss is: 44.817826569334024\n",
      "When time is : 5550, get best_k: 7.54140706048817 best_b: -24.742811680981976, and the loss is: 44.81490284270399\n",
      "When time is : 5600, get best_k: 7.543282482962015 best_b: -24.75474146465611, and the loss is: 44.81198613846314\n",
      "When time is : 5650, get best_k: 7.54515565182842 best_b: -24.766656912867372, and the loss is: 44.80907643974471\n",
      "When time is : 5700, get best_k: 7.547026569795443 best_b: -24.778558042842032, and the loss is: 44.806173729722296\n",
      "When time is : 5750, get best_k: 7.5488952395678846 best_b: -24.790444871785656, and the loss is: 44.803277991610166\n",
      "When time is : 5800, get best_k: 7.550761663847295 best_b: -24.802317416883117, and the loss is: 44.800389208662686\n",
      "When time is : 5850, get best_k: 7.552625845331979 best_b: -24.814175695298648, and the loss is: 44.79750736417446\n",
      "When time is : 5900, get best_k: 7.554487786716994 best_b: -24.82601972417584, and the loss is: 44.7946324414803\n",
      "When time is : 5950, get best_k: 7.556347490694168 best_b: -24.837849520637715, and the loss is: 44.79176442395504\n",
      "When time is : 6000, get best_k: 7.558204959952084 best_b: -24.849665101786666, and the loss is: 44.78890329501337\n",
      "When time is : 6050, get best_k: 7.560060197176105 best_b: -24.861466484704614, and the loss is: 44.78604903810983\n",
      "When time is : 6100, get best_k: 7.5619132050483575 best_b: -24.87325368645288, and the loss is: 44.7832016367388\n",
      "When time is : 6150, get best_k: 7.563763986247752 best_b: -24.88502672407233, and the loss is: 44.78036107443424\n",
      "When time is : 6200, get best_k: 7.565612543449977 best_b: -24.896785614583326, and the loss is: 44.77752733476961\n",
      "When time is : 6250, get best_k: 7.5674588793275035 best_b: -24.90853037498578, and the loss is: 44.77470040135782\n",
      "When time is : 6300, get best_k: 7.569302996549595 best_b: -24.920261022259186, and the loss is: 44.77188025785126\n",
      "When time is : 6350, get best_k: 7.571144897782306 best_b: -24.93197757336263, and the loss is: 44.76906688794156\n",
      "When time is : 6400, get best_k: 7.572984585688486 best_b: -24.943680045234824, and the loss is: 44.766260275359286\n",
      "When time is : 6450, get best_k: 7.574822062927786 best_b: -24.955368454794115, and the loss is: 44.7634604038745\n",
      "When time is : 6500, get best_k: 7.576657332156662 best_b: -24.967042818938534, and the loss is: 44.76066725729586\n",
      "When time is : 6550, get best_k: 7.57849039602838 best_b: -24.97870315454581, and the loss is: 44.75788081947107\n",
      "When time is : 6600, get best_k: 7.580321257193011 best_b: -24.99034947847336, and the loss is: 44.755101074286756\n",
      "When time is : 6650, get best_k: 7.582149918297444 best_b: -25.001981807558362, and the loss is: 44.75232800566792\n",
      "When time is : 6700, get best_k: 7.583976381985388 best_b: -25.013600158617784, and the loss is: 44.74956159757858\n",
      "When time is : 6750, get best_k: 7.5858006508973785 best_b: -25.025204548448336, and the loss is: 44.74680183402087\n",
      "When time is : 6800, get best_k: 7.587622727670773 best_b: -25.0367949938266, and the loss is: 44.744048699035645\n",
      "When time is : 6850, get best_k: 7.589442614939764 best_b: -25.048371511508964, and the loss is: 44.74130217670195\n",
      "When time is : 6900, get best_k: 7.591260315335377 best_b: -25.059934118231695, and the loss is: 44.73856225113717\n",
      "When time is : 6950, get best_k: 7.59307583148547 best_b: -25.071482830710917, and the loss is: 44.735828906496664\n",
      "When time is : 7000, get best_k: 7.594889166014752 best_b: -25.083017665642714, and the loss is: 44.73310212697406\n",
      "When time is : 7050, get best_k: 7.596700321544776 best_b: -25.094538639703085, and the loss is: 44.73038189680077\n",
      "When time is : 7100, get best_k: 7.598509300693945 best_b: -25.106045769547997, and the loss is: 44.72766820024619\n",
      "When time is : 7150, get best_k: 7.6003161060775115 best_b: -25.117539071813386, and the loss is: 44.72496102161749\n",
      "When time is : 7200, get best_k: 7.602120740307587 best_b: -25.1290185631152, and the loss is: 44.72226034525944\n",
      "When time is : 7250, get best_k: 7.603923205993143 best_b: -25.140484260049433, and the loss is: 44.71956615555464\n",
      "When time is : 7300, get best_k: 7.605723505740025 best_b: -25.151936179192134, and the loss is: 44.71687843692283\n",
      "When time is : 7350, get best_k: 7.607521642150934 best_b: -25.163374337099423, and the loss is: 44.71419717382146\n",
      "When time is : 7400, get best_k: 7.609317617825451 best_b: -25.174798750307545, and the loss is: 44.711522350745284\n",
      "When time is : 7450, get best_k: 7.611111435360033 best_b: -25.186209435332845, and the loss is: 44.708853952226235\n"
     ]
    },
    {
     "name": "stdout",
     "output_type": "stream",
     "text": [
      "When time is : 7500, get best_k: 7.612903097348015 best_b: -25.19760640867186, and the loss is: 44.706191962833415\n",
      "When time is : 7550, get best_k: 7.6146926063796165 best_b: -25.208989686801274, and the loss is: 44.70353636717292\n",
      "When time is : 7600, get best_k: 7.616479965041947 best_b: -25.220359286177978, and the loss is: 44.70088714988789\n",
      "When time is : 7650, get best_k: 7.618265175918999 best_b: -25.23171522323907, and the loss is: 44.69824429565844\n",
      "When time is : 7700, get best_k: 7.62004824159167 best_b: -25.243057514401936, and the loss is: 44.69560778920132\n",
      "When time is : 7750, get best_k: 7.621829164637751 best_b: -25.25438617606422, and the loss is: 44.69297761527007\n",
      "When time is : 7800, get best_k: 7.623607947631935 best_b: -25.265701224603834, and the loss is: 44.69035375865482\n",
      "When time is : 7850, get best_k: 7.625384593145825 best_b: -25.277002676379052, and the loss is: 44.687736204182215\n",
      "When time is : 7900, get best_k: 7.627159103747927 best_b: -25.28829054772846, and the loss is: 44.68512493671542\n",
      "When time is : 7950, get best_k: 7.628931482003667 best_b: -25.29956485497101, and the loss is: 44.6825199411539\n",
      "When time is : 8000, get best_k: 7.630701730475388 best_b: -25.310825614406085, and the loss is: 44.67992120243345\n",
      "When time is : 8050, get best_k: 7.632469851722348 best_b: -25.32207284231342, and the loss is: 44.67732870552594\n",
      "When time is : 8100, get best_k: 7.634235848300734 best_b: -25.33330655495322, and the loss is: 44.67474243543939\n",
      "When time is : 8150, get best_k: 7.63599972276366 best_b: -25.344526768566155, and the loss is: 44.67216237721786\n",
      "When time is : 8200, get best_k: 7.637761477661178 best_b: -25.355733499373404, and the loss is: 44.66958851594126\n",
      "When time is : 8250, get best_k: 7.639521115540266 best_b: -25.36692676357658, and the loss is: 44.667020836725456\n",
      "When time is : 8300, get best_k: 7.641278638944849 best_b: -25.3781065773579, and the loss is: 44.66445932472194\n",
      "When time is : 8350, get best_k: 7.643034050415786 best_b: -25.38927295688009, and the loss is: 44.661903965117915\n",
      "When time is : 8400, get best_k: 7.644787352490898 best_b: -25.400425918286484, and the loss is: 44.65935474313614\n",
      "When time is : 8450, get best_k: 7.646538547704941 best_b: -25.41156547770099, and the loss is: 44.6568116440349\n",
      "When time is : 8500, get best_k: 7.648287638589629 best_b: -25.422691651228156, and the loss is: 44.65427465310802\n",
      "When time is : 8550, get best_k: 7.650034627673643 best_b: -25.433804454953183, and the loss is: 44.65174375568429\n",
      "When time is : 8600, get best_k: 7.651779517482612 best_b: -25.444903904941935, and the loss is: 44.64921893712801\n",
      "When time is : 8650, get best_k: 7.653522310539143 best_b: -25.455990017240964, and the loss is: 44.64670018283869\n",
      "When time is : 8700, get best_k: 7.655263009362798 best_b: -25.467062807877557, and the loss is: 44.64418747825072\n",
      "When time is : 8750, get best_k: 7.657001616470126 best_b: -25.478122292859727, and the loss is: 44.64168080883355\n",
      "When time is : 8800, get best_k: 7.65873813437464 best_b: -25.489168488176276, and the loss is: 44.63918016009151\n",
      "When time is : 8850, get best_k: 7.660472565586842 best_b: -25.500201409796755, and the loss is: 44.6366855175638\n",
      "When time is : 8900, get best_k: 7.662204912614205 best_b: -25.511221073671532, and the loss is: 44.63419686682429\n",
      "When time is : 8950, get best_k: 7.663935177961203 best_b: -25.52222749573185, and the loss is: 44.631714193481535\n",
      "When time is : 9000, get best_k: 7.665663364129289 best_b: -25.533220691889742, and the loss is: 44.629237483178706\n",
      "When time is : 9050, get best_k: 7.667389473616921 best_b: -25.544200678038187, and the loss is: 44.626766721593356\n",
      "When time is : 9100, get best_k: 7.669113508919542 best_b: -25.55516747005102, and the loss is: 44.62430189443746\n",
      "When time is : 9150, get best_k: 7.670835472529609 best_b: -25.566121083783035, and the loss is: 44.62184298745732\n",
      "When time is : 9200, get best_k: 7.6725553669365745 best_b: -25.57706153506993, and the loss is: 44.619389986433575\n",
      "When time is : 9250, get best_k: 7.674273194626908 best_b: -25.58798883972843, and the loss is: 44.61694287718081\n",
      "When time is : 9300, get best_k: 7.675988958084078 best_b: -25.59890301355619, and the loss is: 44.614501645547975\n",
      "When time is : 9350, get best_k: 7.677702659788582 best_b: -25.609804072331922, and the loss is: 44.61206627741767\n",
      "When time is : 9400, get best_k: 7.67941430221793 best_b: -25.62069203181539, and the loss is: 44.60963675870665\n",
      "When time is : 9450, get best_k: 7.681123887846657 best_b: -25.63156690774737, and the loss is: 44.60721307536537\n",
      "When time is : 9500, get best_k: 7.682831419146326 best_b: -25.642428715849796, and the loss is: 44.60479521337809\n",
      "When time is : 9550, get best_k: 7.684536898585526 best_b: -25.653277471825618, and the loss is: 44.60238315876278\n",
      "When time is : 9600, get best_k: 7.686240328629882 best_b: -25.664113191359004, and the loss is: 44.59997689757085\n",
      "When time is : 9650, get best_k: 7.687941711742057 best_b: -25.67493589011522, and the loss is: 44.59757641588734\n",
      "When time is : 9700, get best_k: 7.68964105038175 best_b: -25.685745583740715, and the loss is: 44.59518169983061\n",
      "When time is : 9750, get best_k: 7.691338347005711 best_b: -25.696542287863164, and the loss is: 44.59279273555254\n",
      "When time is : 9800, get best_k: 7.693033604067735 best_b: -25.70732601809145, and the loss is: 44.59040950923798\n",
      "When time is : 9850, get best_k: 7.694726824018667 best_b: -25.718096790015675, and the loss is: 44.58803200710524\n",
      "When time is : 9900, get best_k: 7.69641800930641 best_b: -25.728854619207237, and the loss is: 44.58566021540562\n",
      "When time is : 9950, get best_k: 7.698107162375923 best_b: -25.739599521218818, and the loss is: 44.583294120423425\n",
      "When time is : 10000, get best_k: 7.699794285669226 best_b: -25.750331511584395, and the loss is: 44.58093370847594\n",
      "When time is : 10050, get best_k: 7.701479381625405 best_b: -25.761050605819296, and the loss is: 44.57857896591325\n",
      "When time is : 10100, get best_k: 7.70316245268062 best_b: -25.771756819420183, and the loss is: 44.57622987911828\n",
      "When time is : 10150, get best_k: 7.704843501268097 best_b: -25.782450167865132, and the loss is: 44.57388643450669\n",
      "When time is : 10200, get best_k: 7.706522529818145 best_b: -25.793130666613607, and the loss is: 44.571548618526755\n",
      "When time is : 10250, get best_k: 7.708199540758143 best_b: -25.803798331106467, and the loss is: 44.56921641765916\n",
      "When time is : 10300, get best_k: 7.70987453651256 best_b: -25.814453176766023, and the loss is: 44.56688981841736\n",
      "When time is : 10350, get best_k: 7.711547519502951 best_b: -25.825095218996083, and the loss is: 44.56456880734684\n",
      "When time is : 10400, get best_k: 7.71321849214796 best_b: -25.835724473181926, and the loss is: 44.56225337102575\n",
      "When time is : 10450, get best_k: 7.714887456863323 best_b: -25.846340954690355, and the loss is: 44.55994349606406\n",
      "When time is : 10500, get best_k: 7.71655441606188 best_b: -25.85694467886969, and the loss is: 44.557639169104455\n",
      "When time is : 10550, get best_k: 7.718219372153564 best_b: -25.867535661049832, and the loss is: 44.555340376821135\n",
      "When time is : 10600, get best_k: 7.719882327545415 best_b: -25.87811391654223, and the loss is: 44.55304710592081\n",
      "When time is : 10650, get best_k: 7.721543284641579 best_b: -25.88867946063995, and the loss is: 44.550759343141635\n",
      "When time is : 10700, get best_k: 7.723202245843319 best_b: -25.899232308617687, and the loss is: 44.548477075254056\n",
      "When time is : 10750, get best_k: 7.724859213549001 best_b: -25.909772475731764, and the loss is: 44.546200289059925\n",
      "When time is : 10800, get best_k: 7.726514190154121 best_b: -25.920299977220182, and the loss is: 44.54392897139316\n",
      "When time is : 10850, get best_k: 7.728167178051289 best_b: -25.93081482830265, and the loss is: 44.541663109119\n",
      "When time is : 10900, get best_k: 7.729818179630246 best_b: -25.94131704418055, and the loss is: 44.53940268913427\n",
      "When time is : 10950, get best_k: 7.731467197277851 best_b: -25.95180664003702, and the loss is: 44.53714769836751\n",
      "When time is : 11000, get best_k: 7.733114233378106 best_b: -25.96228363103695, and the loss is: 44.53489812377838\n",
      "When time is : 11050, get best_k: 7.734759290312144 best_b: -25.972748032327, and the loss is: 44.53265395235797\n"
     ]
    },
    {
     "name": "stdout",
     "output_type": "stream",
     "text": [
      "When time is : 11100, get best_k: 7.7364023704582365 best_b: -25.983199859035654, and the loss is: 44.530415171128645\n",
      "When time is : 11150, get best_k: 7.738043476191795 best_b: -25.993639126273184, and the loss is: 44.52818176714388\n",
      "When time is : 11200, get best_k: 7.739682609885381 best_b: -26.00406584913172, and the loss is: 44.52595372748828\n",
      "When time is : 11250, get best_k: 7.741319773908699 best_b: -26.014480042685253, and the loss is: 44.52373103927746\n",
      "When time is : 11300, get best_k: 7.742954970628613 best_b: -26.024881721989676, and the loss is: 44.52151368965803\n",
      "When time is : 11350, get best_k: 7.744588202409139 best_b: -26.035270902082758, and the loss is: 44.51930166580739\n",
      "When time is : 11400, get best_k: 7.746219471611453 best_b: -26.045647597984225, and the loss is: 44.51709495493374\n",
      "When time is : 11450, get best_k: 7.7478487805938885 best_b: -26.056011824695748, and the loss is: 44.51489354427608\n",
      "When time is : 11500, get best_k: 7.749476131711959 best_b: -26.06636359720096, and the loss is: 44.512697421104036\n",
      "When time is : 11550, get best_k: 7.751101527318331 best_b: -26.076702930465515, and the loss is: 44.510506572717745\n",
      "When time is : 11600, get best_k: 7.7527249697628555 best_b: -26.08702983943705, and the loss is: 44.508320986448\n",
      "When time is : 11650, get best_k: 7.754346461392552 best_b: -26.097344339045268, and the loss is: 44.50614064965578\n",
      "When time is : 11700, get best_k: 7.755966004551627 best_b: -26.10764644420191, and the loss is: 44.50396554973265\n",
      "When time is : 11750, get best_k: 7.757583601581467 best_b: -26.11793616980082, and the loss is: 44.50179567410034\n",
      "When time is : 11800, get best_k: 7.75919925482064 best_b: -26.128213530717932, and the loss is: 44.49963101021089\n",
      "When time is : 11850, get best_k: 7.760812966604911 best_b: -26.138478541811295, and the loss is: 44.4974715455463\n",
      "When time is : 11900, get best_k: 7.762424739267238 best_b: -26.148731217921124, and the loss is: 44.495317267618816\n",
      "When time is : 11950, get best_k: 7.764034575137769 best_b: -26.1589715738698, and the loss is: 44.49316816397059\n",
      "When time is : 12000, get best_k: 7.76564247654386 best_b: -26.169199624461868, and the loss is: 44.491024222173735\n",
      "When time is : 12050, get best_k: 7.7672484458100595 best_b: -26.179415384484084, and the loss is: 44.48888542983014\n",
      "When time is : 12100, get best_k: 7.768852485258136 best_b: -26.189618868705473, and the loss is: 44.48675177457162\n",
      "When time is : 12150, get best_k: 7.770454597207059 best_b: -26.199810091877296, and the loss is: 44.484623244059556\n",
      "When time is : 12200, get best_k: 7.772054783973016 best_b: -26.209989068733073, and the loss is: 44.48249982598497\n",
      "When time is : 12250, get best_k: 7.773653047869408 best_b: -26.22015581398863, and the loss is: 44.4803815080685\n",
      "When time is : 12300, get best_k: 7.775249391206856 best_b: -26.230310342342097, and the loss is: 44.478268278060305\n",
      "When time is : 12350, get best_k: 7.7768438162932085 best_b: -26.240452668474, and the loss is: 44.47616012373993\n",
      "When time is : 12400, get best_k: 7.778436325433538 best_b: -26.25058280704712, and the loss is: 44.47405703291626\n",
      "When time is : 12450, get best_k: 7.780026920930146 best_b: -26.260700772706702, and the loss is: 44.47195899342746\n",
      "When time is : 12500, get best_k: 7.7816156050825676 best_b: -26.270806580080365, and the loss is: 44.46986599314094\n",
      "When time is : 12550, get best_k: 7.783202380187576 best_b: -26.280900243778145, and the loss is: 44.46777801995327\n",
      "When time is : 12600, get best_k: 7.784787248539184 best_b: -26.29098177839254, and the loss is: 44.46569506178992\n",
      "When time is : 12650, get best_k: 7.786370212428651 best_b: -26.301051198498495, and the loss is: 44.463617106605554\n",
      "When time is : 12700, get best_k: 7.7879512741444765 best_b: -26.311108518653445, and the loss is: 44.46154414238379\n",
      "When time is : 12750, get best_k: 7.789530435972414 best_b: -26.321153753397336, and the loss is: 44.45947615713687\n",
      "When time is : 12800, get best_k: 7.791107700195472 best_b: -26.331186917252644, and the loss is: 44.45741313890616\n",
      "When time is : 12850, get best_k: 7.79268306909391 best_b: -26.341208024724406, and the loss is: 44.4553550757614\n",
      "When time is : 12900, get best_k: 7.7942565449452585 best_b: -26.351217090300214, and the loss is: 44.45330195580131\n",
      "When time is : 12950, get best_k: 7.795828130024298 best_b: -26.361214128450225, and the loss is: 44.45125376715284\n",
      "When time is : 13000, get best_k: 7.797397826603078 best_b: -26.37119915362724, and the loss is: 44.44921049797188\n",
      "When time is : 13050, get best_k: 7.798965636950924 best_b: -26.38117218026669, and the loss is: 44.4471721364424\n",
      "When time is : 13100, get best_k: 7.8005315633344345 best_b: -26.391133222786667, and the loss is: 44.44513867077693\n",
      "When time is : 13150, get best_k: 7.8020956080174795 best_b: -26.401082295587923, and the loss is: 44.44311008921632\n",
      "When time is : 13200, get best_k: 7.8036577732612065 best_b: -26.411019413053904, and the loss is: 44.44108638002956\n",
      "When time is : 13250, get best_k: 7.805218061324054 best_b: -26.420944589550775, and the loss is: 44.4390675315139\n",
      "When time is : 13300, get best_k: 7.806776474461744 best_b: -26.43085783942744, and the loss is: 44.437053531994714\n",
      "When time is : 13350, get best_k: 7.808333014927279 best_b: -26.44075917701556, and the loss is: 44.43504436982539\n",
      "When time is : 13400, get best_k: 7.809887684970969 best_b: -26.450648616629582, and the loss is: 44.433040033387115\n",
      "When time is : 13450, get best_k: 7.811440486840407 best_b: -26.460526172566734, and the loss is: 44.43104051108935\n",
      "When time is : 13500, get best_k: 7.812991422780495 best_b: -26.47039185910708, and the loss is: 44.42904579136914\n",
      "When time is : 13550, get best_k: 7.81454049503343 best_b: -26.48024569051352, and the loss is: 44.427055862691226\n",
      "When time is : 13600, get best_k: 7.8160877058387195 best_b: -26.490087681031824, and the loss is: 44.42507071354837\n",
      "When time is : 13650, get best_k: 7.817633057433178 best_b: -26.49991784489062, and the loss is: 44.42309033246067\n",
      "When time is : 13700, get best_k: 7.8191765520509335 best_b: -26.50973619630146, and the loss is: 44.42111470797594\n",
      "When time is : 13750, get best_k: 7.820718191923421 best_b: -26.519542749458793, and the loss is: 44.419143828669526\n",
      "When time is : 13800, get best_k: 7.82225797927941 best_b: -26.529337518540054, and the loss is: 44.41717768314402\n",
      "When time is : 13850, get best_k: 7.823795916344978 best_b: -26.539120517705584, and the loss is: 44.41521626002969\n",
      "When time is : 13900, get best_k: 7.825332005343531 best_b: -26.54889176109875, and the loss is: 44.413259547983856\n",
      "When time is : 13950, get best_k: 7.826866248495807 best_b: -26.558651262845917, and the loss is: 44.41130753569123\n",
      "When time is : 14000, get best_k: 7.828398648019875 best_b: -26.568399037056498, and the loss is: 44.409360211863635\n",
      "When time is : 14050, get best_k: 7.829929206131136 best_b: -26.578135097822898, and the loss is: 44.407417565240024\n",
      "When time is : 14100, get best_k: 7.8314579250423275 best_b: -26.587859459220613, and the loss is: 44.405479584586345\n",
      "When time is : 14150, get best_k: 7.832984806963531 best_b: -26.59757213530824, and the loss is: 44.403546258695734\n",
      "When time is : 14200, get best_k: 7.834509854102173 best_b: -26.607273140127464, and the loss is: 44.40161757638792\n",
      "When time is : 14250, get best_k: 7.836033068663023 best_b: -26.616962487703102, and the loss is: 44.39969352650971\n",
      "When time is : 14300, get best_k: 7.8375544528482095 best_b: -26.626640192043126, and the loss is: 44.39777409793464\n",
      "When time is : 14350, get best_k: 7.839074008857202 best_b: -26.636306267138643, and the loss is: 44.39585927956307\n",
      "When time is : 14400, get best_k: 7.840591738886837 best_b: -26.645960726963988, and the loss is: 44.393949060321795\n",
      "When time is : 14450, get best_k: 7.842107645131309 best_b: -26.655603585476698, and the loss is: 44.39204342916439\n",
      "When time is : 14500, get best_k: 7.843621729782176 best_b: -26.665234856617502, and the loss is: 44.39014237507092\n",
      "When time is : 14550, get best_k: 7.84513399502836 best_b: -26.674854554310407, and the loss is: 44.388245887047816\n",
      "When time is : 14600, get best_k: 7.846644443056156 best_b: -26.684462692462702, and the loss is: 44.38635395412822\n"
     ]
    },
    {
     "name": "stdout",
     "output_type": "stream",
     "text": [
      "When time is : 14650, get best_k: 7.84815307604923 best_b: -26.694059284964954, and the loss is: 44.384466565371135\n",
      "When time is : 14700, get best_k: 7.849659896188627 best_b: -26.703644345691007, and the loss is: 44.38258370986234\n",
      "When time is : 14750, get best_k: 7.8511649056527615 best_b: -26.713217888498065, and the loss is: 44.3807053767134\n",
      "When time is : 14800, get best_k: 7.852668106617442 best_b: -26.722779927226668, and the loss is: 44.37883155506242\n",
      "When time is : 14850, get best_k: 7.854169501255862 best_b: -26.732330475700746, and the loss is: 44.37696223407322\n",
      "When time is : 14900, get best_k: 7.855669091738589 best_b: -26.741869547727564, and the loss is: 44.37509740293593\n",
      "When time is : 14950, get best_k: 7.857166880233599 best_b: -26.751397157097863, and the loss is: 44.37323705086651\n",
      "When time is : 15000, get best_k: 7.858662868906254 best_b: -26.76091331758578, and the loss is: 44.371381167106954\n",
      "When time is : 15050, get best_k: 7.86015705991932 best_b: -26.770418042948883, and the loss is: 44.36952974092483\n",
      "When time is : 15100, get best_k: 7.861649455432955 best_b: -26.77991134692824, and the loss is: 44.36768276161374\n",
      "When time is : 15150, get best_k: 7.863140057604733 best_b: -26.789393243248394, and the loss is: 44.36584021849296\n",
      "When time is : 15200, get best_k: 7.864628868589621 best_b: -26.798863745617375, and the loss is: 44.36400210090724\n",
      "When time is : 15250, get best_k: 7.866115890540011 best_b: -26.808322867726794, and the loss is: 44.36216839822725\n",
      "When time is : 15300, get best_k: 7.867601125605702 best_b: -26.81777062325177, and the loss is: 44.36033909984879\n",
      "When time is : 15350, get best_k: 7.8690845759339085 best_b: -26.827207025850985, and the loss is: 44.35851419519335\n",
      "When time is : 15400, get best_k: 7.870566243669263 best_b: -26.83663208916671, and the loss is: 44.35669367370794\n",
      "When time is : 15450, get best_k: 7.872046130953826 best_b: -26.846045826824845, and the loss is: 44.35487752486472\n",
      "When time is : 15500, get best_k: 7.8735242399270815 best_b: -26.85544825243489, and the loss is: 44.353065738161234\n",
      "When time is : 15550, get best_k: 7.875000572725945 best_b: -26.864839379590013, and the loss is: 44.3512583031202\n",
      "When time is : 15600, get best_k: 7.87647513148476 best_b: -26.87421922186705, and the loss is: 44.3494552092895\n",
      "When time is : 15650, get best_k: 7.877947918335309 best_b: -26.883587792826496, and the loss is: 44.34765644624227\n",
      "When time is : 15700, get best_k: 7.87941893540681 best_b: -26.892945106012572, and the loss is: 44.34586200357634\n",
      "When time is : 15750, get best_k: 7.880888184825926 best_b: -26.902291174953216, and the loss is: 44.344071870914874\n",
      "When time is : 15800, get best_k: 7.882355668716759 best_b: -26.91162601316011, and the loss is: 44.34228603790586\n",
      "When time is : 15850, get best_k: 7.883821389200861 best_b: -26.920949634128696, and the loss is: 44.34050449422207\n",
      "When time is : 15900, get best_k: 7.8852853483972405 best_b: -26.93026205133821, and the loss is: 44.338727229561194\n",
      "When time is : 15950, get best_k: 7.886747548422351 best_b: -26.9395632782517, and the loss is: 44.33695423364555\n",
      "When time is : 16000, get best_k: 7.888207991390106 best_b: -26.948853328315995, and the loss is: 44.33518549622227\n",
      "When time is : 16050, get best_k: 7.8896666794118815 best_b: -26.95813221496181, and the loss is: 44.33342100706291\n",
      "When time is : 16100, get best_k: 7.891123614596512 best_b: -26.967399951603703, and the loss is: 44.33166075596386\n",
      "When time is : 16150, get best_k: 7.892578799050299 best_b: -26.976656551640094, and the loss is: 44.329904732745824\n",
      "When time is : 16200, get best_k: 7.894032234877015 best_b: -26.985902028453328, and the loss is: 44.32815292725403\n",
      "When time is : 16250, get best_k: 7.895483924177902 best_b: -26.99513639540966, and the loss is: 44.326405329357996\n",
      "When time is : 16300, get best_k: 7.896933869051679 best_b: -27.004359665859297, and the loss is: 44.3246619289518\n",
      "When time is : 16350, get best_k: 7.898382071594546 best_b: -27.013571853136384, and the loss is: 44.322922715953574\n",
      "When time is : 16400, get best_k: 7.899828533900176 best_b: -27.022772970559043, and the loss is: 44.32118768030576\n",
      "When time is : 16450, get best_k: 7.90127325805973 best_b: -27.031963031429413, and the loss is: 44.31945681197488\n",
      "When time is : 16500, get best_k: 7.902716246161863 best_b: -27.04114204903364, and the loss is: 44.31773010095159\n",
      "When time is : 16550, get best_k: 7.904157500292708 best_b: -27.050310036641886, and the loss is: 44.31600753725081\n",
      "When time is : 16600, get best_k: 7.9055970225359 best_b: -27.059467007508385, and the loss is: 44.314289110911005\n",
      "When time is : 16650, get best_k: 7.907034814972568 best_b: -27.068612974871453, and the loss is: 44.312574811994935\n",
      "When time is : 16700, get best_k: 7.908470879681338 best_b: -27.07774795195348, and the loss is: 44.31086463058904\n",
      "When time is : 16750, get best_k: 7.909905218738339 best_b: -27.086871951960962, and the loss is: 44.3091585568037\n",
      "When time is : 16800, get best_k: 7.911337834217206 best_b: -27.095984988084524, and the loss is: 44.30745658077287\n",
      "When time is : 16850, get best_k: 7.912768728189085 best_b: -27.105087073498993, and the loss is: 44.305758692654344\n",
      "When time is : 16900, get best_k: 7.914197902722628 best_b: -27.11417822136329, and the loss is: 44.30406488262955\n",
      "When time is : 16950, get best_k: 7.915625359884008 best_b: -27.123258444820575, and the loss is: 44.30237514090345\n",
      "When time is : 17000, get best_k: 7.917051101736904 best_b: -27.13232775699819, and the loss is: 44.30068945770462\n",
      "When time is : 17050, get best_k: 7.918475130342523 best_b: -27.14138617100769, and the loss is: 44.299007823284875\n",
      "When time is : 17100, get best_k: 7.919897447759597 best_b: -27.15043369994492, and the loss is: 44.29733022791974\n",
      "When time is : 17150, get best_k: 7.921318056044378 best_b: -27.15947035688995, and the loss is: 44.29565666190797\n",
      "When time is : 17200, get best_k: 7.922736957250656 best_b: -27.168496154907164, and the loss is: 44.29398711557151\n",
      "When time is : 17250, get best_k: 7.924154153429745 best_b: -27.17751110704521, and the loss is: 44.2923215792557\n",
      "When time is : 17300, get best_k: 7.9255696466304935 best_b: -27.18651522633707, and the loss is: 44.29066004332905\n",
      "When time is : 17350, get best_k: 7.926983438899293 best_b: -27.195508525800072, and the loss is: 44.28900249818314\n",
      "When time is : 17400, get best_k: 7.928395532280075 best_b: -27.204491018435913, and the loss is: 44.28734893423269\n",
      "When time is : 17450, get best_k: 7.929805928814309 best_b: -27.213462717230623, and the loss is: 44.285699341915375\n",
      "When time is : 17500, get best_k: 7.931214630541019 best_b: -27.22242363515467, and the loss is: 44.28405371169195\n",
      "When time is : 17550, get best_k: 7.932621639496779 best_b: -27.23137378516293, and the loss is: 44.28241203404595\n",
      "When time is : 17600, get best_k: 7.934026957715709 best_b: -27.2403131801947, and the loss is: 44.2807742994838\n",
      "When time is : 17650, get best_k: 7.935430587229489 best_b: -27.24924183317373, and the loss is: 44.27914049853485\n",
      "When time is : 17700, get best_k: 7.936832530067355 best_b: -27.258159757008226, and the loss is: 44.27751062175102\n",
      "When time is : 17750, get best_k: 7.938232788256114 best_b: -27.267066964590924, and the loss is: 44.27588465970704\n",
      "When time is : 17800, get best_k: 7.939631363820121 best_b: -27.27596346879903, and the loss is: 44.27426260300023\n",
      "When time is : 17850, get best_k: 7.941028258781311 best_b: -27.28484928249428, and the loss is: 44.27264444225058\n",
      "When time is : 17900, get best_k: 7.9424234751591865 best_b: -27.293724418522995, and the loss is: 44.27103016810043\n",
      "When time is : 17950, get best_k: 7.943817014970822 best_b: -27.302588889715995, and the loss is: 44.26941977121476\n",
      "When time is : 18000, get best_k: 7.945208880230869 best_b: -27.311442708888727, and the loss is: 44.26781324228089\n",
      "When time is : 18050, get best_k: 7.946599072951558 best_b: -27.32028588884122, and the loss is: 44.266210572008546\n",
      "When time is : 18100, get best_k: 7.947987595142698 best_b: -27.329118442358123, and the loss is: 44.264611751129735\n",
      "When time is : 18150, get best_k: 7.94937444881169 best_b: -27.337940382208743, and the loss is: 44.26301677039876\n",
      "When time is : 18200, get best_k: 7.95075963596352 best_b: -27.34675172114703, and the loss is: 44.261425620592156\n"
     ]
    },
    {
     "name": "stdout",
     "output_type": "stream",
     "text": [
      "When time is : 18250, get best_k: 7.952143158600764 best_b: -27.35555247191159, and the loss is: 44.25983829250844\n",
      "When time is : 18300, get best_k: 7.953525018723587 best_b: -27.36434264722574, and the loss is: 44.25825477696853\n",
      "When time is : 18350, get best_k: 7.954905218329754 best_b: -27.37312225979749, and the loss is: 44.25667506481511\n",
      "When time is : 18400, get best_k: 7.956283759414635 best_b: -27.38189132231961, and the loss is: 44.25509914691298\n",
      "When time is : 18450, get best_k: 7.957660643971196 best_b: -27.390649847469597, and the loss is: 44.2535270141489\n",
      "When time is : 18500, get best_k: 7.9590358739900084 best_b: -27.399397847909718, and the loss is: 44.25195865743147\n",
      "When time is : 18550, get best_k: 7.9604094514592525 best_b: -27.408135336287014, and the loss is: 44.250394067691154\n",
      "When time is : 18600, get best_k: 7.961781378364723 best_b: -27.41686232523337, and the loss is: 44.24883323588021\n",
      "When time is : 18650, get best_k: 7.963151656689822 best_b: -27.425578827365435, and the loss is: 44.247276152972546\n",
      "When time is : 18700, get best_k: 7.964520288415573 best_b: -27.434284855284712, and the loss is: 44.2457228099638\n",
      "When time is : 18750, get best_k: 7.965887275520613 best_b: -27.442980421577595, and the loss is: 44.244173197871326\n",
      "When time is : 18800, get best_k: 7.96725261998121 best_b: -27.451665538815316, and the loss is: 44.24262730773402\n",
      "When time is : 18850, get best_k: 7.968616323771254 best_b: -27.460340219554027, and the loss is: 44.241085130612134\n",
      "When time is : 18900, get best_k: 7.969978388862259 best_b: -27.46900447633479, and the loss is: 44.23954665758757\n",
      "When time is : 18950, get best_k: 7.971338817223378 best_b: -27.477658321683574, and the loss is: 44.23801187976365\n",
      "When time is : 19000, get best_k: 7.972697610821387 best_b: -27.486301768111304, and the loss is: 44.23648078826491\n",
      "When time is : 19050, get best_k: 7.974054771620706 best_b: -27.494934828113884, and the loss is: 44.23495337423738\n",
      "When time is : 19100, get best_k: 7.975410301583392 best_b: -27.503557514172194, and the loss is: 44.233429628848185\n",
      "When time is : 19150, get best_k: 7.9767642026691465 best_b: -27.512169838752104, and the loss is: 44.231909543285894\n",
      "When time is : 19200, get best_k: 7.978116476835315 best_b: -27.520771814304545, and the loss is: 44.23039310875999\n",
      "When time is : 19250, get best_k: 7.97946712603689 best_b: -27.52936345326545, and the loss is: 44.22888031650127\n",
      "When time is : 19300, get best_k: 7.980816152226516 best_b: -27.537944768055798, and the loss is: 44.22737115776141\n",
      "When time is : 19350, get best_k: 7.9821635573544905 best_b: -27.546515771081687, and the loss is: 44.22586562381339\n",
      "When time is : 19400, get best_k: 7.983509343368763 best_b: -27.55507647473427, and the loss is: 44.224363705950715\n",
      "When time is : 19450, get best_k: 7.984853512214955 best_b: -27.563626891389827, and the loss is: 44.2228653954882\n",
      "When time is : 19500, get best_k: 7.986196065836337 best_b: -27.57216703340976, and the loss is: 44.22137068376129\n",
      "When time is : 19550, get best_k: 7.9875370061738495 best_b: -27.580696913140617, and the loss is: 44.21987956212632\n",
      "When time is : 19600, get best_k: 7.988876335166099 best_b: -27.589216542914095, and the loss is: 44.21839202196053\n",
      "When time is : 19650, get best_k: 7.990214054749366 best_b: -27.597725935047116, and the loss is: 44.21690805466147\n",
      "When time is : 19700, get best_k: 7.9915501668576 best_b: -27.60622510184175, and the loss is: 44.21542765164783\n",
      "When time is : 19750, get best_k: 7.992884673422428 best_b: -27.61471405558531, and the loss is: 44.21395080435862\n",
      "When time is : 19800, get best_k: 7.994217576373158 best_b: -27.623192808550368, and the loss is: 44.21247750425342\n",
      "When time is : 19850, get best_k: 7.99554887763678 best_b: -27.631661372994696, and the loss is: 44.211007742812434\n",
      "When time is : 19900, get best_k: 7.996878579137964 best_b: -27.640119761161376, and the loss is: 44.209541511536244\n",
      "When time is : 19950, get best_k: 7.998206682799068 best_b: -27.648567985278753, and the loss is: 44.20807880194593\n"
     ]
    }
   ],
   "source": [
    "import random\n",
    "trying_times = 20000\n",
    "\n",
    "X, y = data['data'], data['target']\n",
    "X_rm = X[:, 5]\n",
    "\n",
    "min_loss = float('inf') \n",
    "\n",
    "current_k = random.random() * 200 - 100\n",
    "current_b = random.random() * 200 - 100\n",
    "\n",
    "learning_rate = 1e-03\n",
    "\n",
    "\n",
    "update_time = 0\n",
    "\n",
    "for i in range(trying_times):\n",
    "    \n",
    "    price_by_k_and_b = [price(r, current_k, current_b) for r in X_rm]\n",
    "    \n",
    "    current_loss = loss(y, price_by_k_and_b)\n",
    "\n",
    "    if current_loss < min_loss: # performance became better\n",
    "        min_loss = current_loss\n",
    "        \n",
    "        if i % 50 == 0: \n",
    "            print('When time is : {}, get best_k: {} best_b: {}, and the loss is: {}'.format(i, current_k, current_b, min_loss))\n",
    "\n",
    "    k_gradient = partial_k(X_rm, y, price_by_k_and_b)\n",
    "    \n",
    "    b_gradient = partial_b(X_rm, y, price_by_k_and_b)\n",
    "    \n",
    "    current_k = current_k + (-1 * k_gradient) * learning_rate\n",
    "\n",
    "    current_b = current_b + (-1 * b_gradient) * learning_rate"
   ]
  },
  {
   "cell_type": "markdown",
   "metadata": {},
   "source": [
    "## Dynamic Programming"
   ]
  },
  {
   "cell_type": "code",
   "execution_count": 8,
   "metadata": {},
   "outputs": [],
   "source": [
    "original_price = [1, 5, 8, 9, 10, 17, 17, 20, 24, 30, 35]\n",
    "from collections import defaultdict\n",
    "price = defaultdict(int)\n",
    "for i, p in enumerate(original_price): \n",
    "    price[i + 1] = p"
   ]
  },
  {
   "cell_type": "code",
   "execution_count": null,
   "metadata": {},
   "outputs": [
    {
     "data": {
      "text/plain": [
       "30"
      ]
     },
     "execution_count": 9,
     "metadata": {},
     "output_type": "execute_result"
    }
   ],
   "source": [
    "price[10]"
   ]
  },
  {
   "cell_type": "code",
   "execution_count": null,
   "metadata": {},
   "outputs": [
    {
     "data": {
      "text/plain": [
       "35"
      ]
     },
     "execution_count": 10,
     "metadata": {},
     "output_type": "execute_result"
    }
   ],
   "source": [
    "price[11]"
   ]
  },
  {
   "cell_type": "code",
   "execution_count": null,
   "metadata": {},
   "outputs": [],
   "source": [
    "def r(n):\n",
    "    return max(\n",
    "        [price[n]] + [r(i) + r(n-i) for i in range(1, n)]\n",
    "    )"
   ]
  },
  {
   "cell_type": "code",
   "execution_count": null,
   "metadata": {},
   "outputs": [],
   "source": [
    "# 普通装饰器，额外保存调用次数\n",
    "called_time = defaultdict(int)\n",
    "\n",
    "def get_call_times(f):\n",
    "    result = f()\n",
    "    print('function: {} called once! '.format(f.__name__))\n",
    "    called_time[f.__name__] += 1\n",
    "    \n",
    "    return result"
   ]
  },
  {
   "cell_type": "code",
   "execution_count": null,
   "metadata": {},
   "outputs": [
    {
     "data": {
      "text/plain": [
       "36"
      ]
     },
     "execution_count": 13,
     "metadata": {},
     "output_type": "execute_result"
    }
   ],
   "source": [
    "r(12) # 抛出问题：计算时间太长"
   ]
  },
  {
   "cell_type": "code",
   "execution_count": null,
   "metadata": {},
   "outputs": [],
   "source": [
    "from functools import wraps\n",
    "def get_call_time(f):\n",
    "    \"\"\"@param f is a function\"\"\"\n",
    "    @wraps(f)\n",
    "    def wrap(n):\n",
    "        \"\"\"Haha I am warp\"\"\"\n",
    "       # print('I can count')\n",
    "        result = f(n)\n",
    "        get_call_time.already_computed[(f.__name__, n)] += 1\n",
    "        return result\n",
    "    return wrap"
   ]
  },
  {
   "cell_type": "code",
   "execution_count": null,
   "metadata": {},
   "outputs": [],
   "source": [
    "solution = {}\n",
    "get_call_time.already_computed = defaultdict(int)\n",
    "@get_call_time\n",
    "def r(n):\n",
    "    \"\"\"\n",
    "    Args: n is the iron length\n",
    "    Return: the max revenue \n",
    "    \"\"\"\n",
    "    max_price, max_split = max(\n",
    "        [(price[n], 0)] + [(r(i) + r(n-i), i) for i in range(1, n)], key=lambda x: x[0]\n",
    "    )\n",
    "\n",
    "    solution[n] = (n - max_split, max_split)\n",
    "    \n",
    "    return max_price"
   ]
  },
  {
   "cell_type": "code",
   "execution_count": null,
   "metadata": {},
   "outputs": [
    {
     "data": {
      "text/plain": [
       "30"
      ]
     },
     "execution_count": 16,
     "metadata": {},
     "output_type": "execute_result"
    }
   ],
   "source": [
    "r(10)"
   ]
  },
  {
   "cell_type": "code",
   "execution_count": null,
   "metadata": {},
   "outputs": [],
   "source": [
    "get_call_time.already_computed = defaultdict(int)\n",
    "r(200)\n",
    "get_call_time.already_computed # 还是没有解决计算遍历太长的问题"
   ]
  },
  {
   "cell_type": "code",
   "execution_count": null,
   "metadata": {},
   "outputs": [],
   "source": [
    "solution"
   ]
  },
  {
   "cell_type": "code",
   "execution_count": null,
   "metadata": {},
   "outputs": [],
   "source": [
    "def parse_solution(n):\n",
    "    left_split, right_split = solution[n]\n",
    "    \n",
    "    if right_split == 0: return [left_split]\n",
    "    \n",
    "    return parse_solution(left_split) + parse_solution(right_split)"
   ]
  },
  {
   "cell_type": "code",
   "execution_count": null,
   "metadata": {},
   "outputs": [],
   "source": [
    "parse_solution(16)"
   ]
  },
  {
   "cell_type": "code",
   "execution_count": null,
   "metadata": {},
   "outputs": [],
   "source": [
    "def memo(f): \n",
    "    memo.already_computed = defaultdict(int)\n",
    "    @wraps(f)\n",
    "    def _wrap(arg):\n",
    "        result = None\n",
    "        \n",
    "        if arg in memo.already_computed: \n",
    "            result = memo.already_computed[arg]\n",
    "        else:\n",
    "            result = f(arg)\n",
    "            memo.already_computed[arg] = result\n",
    "        \n",
    "        return result\n",
    "    \n",
    "    return _wrap"
   ]
  },
  {
   "cell_type": "code",
   "execution_count": null,
   "metadata": {},
   "outputs": [],
   "source": [
    "memo.already_computed = {}\n"
   ]
  },
  {
   "cell_type": "code",
   "execution_count": null,
   "metadata": {},
   "outputs": [],
   "source": [
    "solution = {}\n",
    "memo.already_computed = defaultdict(int)\n",
    "@memo\n",
    "def r(n):\n",
    "    \"\"\"\n",
    "    Args: n is the iron length\n",
    "    Return: the max revenue \n",
    "    \"\"\"\n",
    "    max_price, max_split = max(\n",
    "        [(price[n], 0)] + [(r(i) + r(n-i), i) for i in range(1, n)], key=lambda x: x[0]\n",
    "    )\n",
    "\n",
    "    solution[n] = (n - max_split, max_split)\n",
    "    \n",
    "    return max_price"
   ]
  },
  {
   "cell_type": "code",
   "execution_count": null,
   "metadata": {},
   "outputs": [],
   "source": [
    "r(300) # 最大递归次数"
   ]
  },
  {
   "cell_type": "code",
   "execution_count": null,
   "metadata": {},
   "outputs": [],
   "source": [
    "memo.already_computed"
   ]
  },
  {
   "cell_type": "code",
   "execution_count": null,
   "metadata": {},
   "outputs": [],
   "source": [
    "solution"
   ]
  },
  {
   "cell_type": "code",
   "execution_count": null,
   "metadata": {},
   "outputs": [],
   "source": [
    "parse_solution(88)"
   ]
  },
  {
   "cell_type": "code",
   "execution_count": null,
   "metadata": {},
   "outputs": [],
   "source": [
    "parse_solution(55)"
   ]
  },
  {
   "cell_type": "code",
   "execution_count": null,
   "metadata": {
    "collapsed": true
   },
   "outputs": [],
   "source": []
  }
 ],
 "metadata": {
  "kernelspec": {
   "display_name": "Python 3",
   "language": "python",
   "name": "python3"
  },
  "language_info": {
   "codemirror_mode": {
    "name": "ipython",
    "version": 3
   },
   "file_extension": ".py",
   "mimetype": "text/x-python",
   "name": "python",
   "nbconvert_exporter": "python",
   "pygments_lexer": "ipython3",
   "version": "3.7.3"
  }
 },
 "nbformat": 4,
 "nbformat_minor": 2
}
